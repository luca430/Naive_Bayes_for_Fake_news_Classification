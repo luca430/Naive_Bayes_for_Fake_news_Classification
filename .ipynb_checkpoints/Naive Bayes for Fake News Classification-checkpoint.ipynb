{
 "cells": [
  {
   "cell_type": "markdown",
   "id": "021525bb",
   "metadata": {},
   "source": [
    "# Naive Bayes for Fake News Classification\n",
    "#### A work by Luca Allegri, Alessandro Grilli, Andrea Scanu"
   ]
  },
  {
   "cell_type": "markdown",
   "id": "d1623b47",
   "metadata": {},
   "source": [
    "## Introduction"
   ]
  },
  {
   "cell_type": "markdown",
   "id": "bc8a635c",
   "metadata": {},
   "source": [
    "The Naive Bayes is an algorithm developed for document classification. It makes use of the Bayes Theorem to return the probability that a document belongs to a specific category of documents among the categories selected for the training. <br>\n",
    "In this work, a R version of the algorithm is presented and it is used for fake news classification. <br>\n",
    "Some implementations are proposed to try to increase the accuracy of the original algorithm, together with a \"text cleaner\" function and a function that creates a vocabulary starting from a text document. <br>\n",
    "\n",
    "The work is structured as follows:\n",
    "* Text cleaning and vocabulary creation\n",
    "* Naive Bayes algorithm\n",
    "* Implementations and results for a 6-label dataset\n",
    "* Results for a 2-label dataset"
   ]
  },
  {
   "cell_type": "markdown",
   "id": "440bc166",
   "metadata": {},
   "source": [
    "## Text cleaning and vocabulary creation"
   ]
  },
  {
   "attachments": {
    "cleaning%20example.png": {
     "image/png": "[encoded data removed]"
    }
   },
   "cell_type": "markdown",
   "id": "d3fd16ba",
   "metadata": {},
   "source": [
    "The Naive Bayes algorithm is based on counting how many time a specific word appears in a given document. <br>\n",
    "This means that we need to extract and count every single word from each document that we want to analyse. <br>\n",
    "But we have to avoid counting *stopwords* since they are the words that appear the most but they cannot be associated with a specific label. <br>\n",
    "Also, when extracting words from a text file computanionally, most algorithms may only identify words by looking at the space between them but in this way any punctuation is included as part of a word. <br>\n",
    "**For example:**\n",
    "\n",
    "\n",
    "![cleaning%20example.png](attachment:cleaning%20example.png)\n",
    "\n",
    "So, before starting the whole process, it is important to clean the dataset by removing stopwords and punctuation that may compromise the final result. <br>\n",
    "\n",
    "The function *clean_txt()* was implemented to do this preliminar cleaning. <br>"
   ]
  },
  {
   "cell_type": "code",
   "execution_count": 3,
   "id": "94a932b1",
   "metadata": {},
   "outputs": [],
   "source": [
    "library(stringr)\n",
    "library(stopwords)"
   ]
  },
  {
   "cell_type": "code",
   "execution_count": 6,
   "id": "a02e0ecc",
   "metadata": {},
   "outputs": [],
   "source": [
    "clean_txt <- function(text) {\n",
    "  \n",
    "  text <- tolower(text)\n",
    "  \n",
    "  special_chr <- list(\"'\",\"-\",\",\",\":\",\";\",\"\\\\\\\\\",\"\\\\.\",\"@\",\"&\",\n",
    "                      \"\\\\+\",\"\\\\-\",\"\\\\*\",\"\\\\/\",\"\\\\=\",\"`\",\"\\\\%\",\"\\\\#\",\n",
    "                   \"\\\\\\\"\",\"\\n\",\"\\t\",\"\\\\(\",\"\\\\)\",\"\\\\[\",\"\\\\]\",\"!\", \"\\\\?\")\n",
    "  \n",
    "  for(chr in special_chr){text <- gsub(chr, \"\", text)}\n",
    "  text <- gsub(\"  \", \" \", text)\n",
    "  \n",
    "   remove_stopwords <- stopwords::stopwords(\"en\",source = \"snowball\")\n",
    "\n",
    "  for(i in 1:length(text)) {\n",
    "    raw_string <- unlist(str_split(text[i],\" \"))\n",
    "    raw_string <- raw_string[! raw_string %in% remove_stopwords]\n",
    "    text[i] <- paste(raw_string, sep=\" \", collapse= \" \")\n",
    "  }\n",
    "  \n",
    "   return(text) \n",
    "}"
   ]
  },
  {
   "cell_type": "code",
   "execution_count": 7,
   "id": "0da8b6d6",
   "metadata": {},
   "outputs": [
    {
     "data": {
      "text/html": [
       "'pen table'"
      ],
      "text/latex": [
       "'pen table'"
      ],
      "text/markdown": [
       "'pen table'"
      ],
      "text/plain": [
       "[1] \"pen table\""
      ]
     },
     "metadata": {},
     "output_type": "display_data"
    }
   ],
   "source": [
    "# Example of text cleaning\n",
    "string <- \"The pen/ is on* the. t=&able!\"\n",
    "string <- clean_txt(string)\n",
    "string"
   ]
  },
  {
   "cell_type": "markdown",
   "id": "9cc1e783",
   "metadata": {},
   "source": [
    "The *create_vocabulary()* function is used to create the vocabulary. It returns a vector filled with the words contained in a text given as input. The words are sorted in alphabetical order. <br>\n",
    "It is possible to have a concatenation of two or three words and create a vocabulary of couples or triplets. <br>\n",
    "The function also permits the user to create a vector of only unique words or to allow repetition."
   ]
  },
  {
   "cell_type": "code",
   "execution_count": 8,
   "id": "3754ca7b",
   "metadata": {},
   "outputs": [],
   "source": [
    "create_vocabulary <- function(text , n_words = 1, unique = T) {\n",
    "    \n",
    "  text <- tolower(text)\n",
    "  vocab <- str_split(text, \" \")\n",
    "  vocab <- unlist(vocab, recursive=FALSE)\n",
    "  vocab <- vocab[vocab != \"\"]\n",
    "  vocab <- vocab[!is.na(vocab)]\n",
    "    \n",
    "  if(n_words == 2) {\n",
    "    \n",
    "    vocab.1 <- vocab[-length(vocab)]\n",
    "    vocab.2 <- vocab[-1]\n",
    "    vocab <- paste(vocab.1, vocab.2)\n",
    "    \n",
    "  } else if(n_words == 3){ \n",
    "    \n",
    "    vocab.1 <- vocab[-c(length(vocab)-1,length(vocab))]\n",
    "    vocab.2 <- vocab[-c(1,length(vocab))]\n",
    "    vocab.3 <- vocab[-c(1,2)]\n",
    "    vocab.d <- paste(vocab.1, vocab.2)\n",
    "    vocab <- paste(vocab.d,vocab.3)\n",
    "    \n",
    "  } else if(n_words > 3){\n",
    "    \n",
    "    print(\"n_words must be an integer between 1 and 3\")\n",
    "      \n",
    "    }\n",
    "  \n",
    "  if (unique) { vocab = unique(vocab) }\n",
    "  return(sort(vocab))\n",
    "}"
   ]
  },
  {
   "attachments": {
    "two_word_expl.png": {
     "image/png": "[encoded data removed]"
    }
   },
   "cell_type": "markdown",
   "id": "71c2e87a",
   "metadata": {},
   "source": [
    "The creation of a multi-word vocabulary is done starting from the single-word one.\n",
    "\n",
    "\n",
    "![two_word_expl.png](attachment:two_word_expl.png)"
   ]
  },
  {
   "cell_type": "code",
   "execution_count": 9,
   "id": "55e1fddd",
   "metadata": {},
   "outputs": [
    {
     "data": {
      "text/html": [
       "<ol class=list-inline>\n",
       "\t<li>'bed'</li>\n",
       "\t<li>'cat'</li>\n",
       "\t<li>'hiding'</li>\n",
       "\t<li>'is'</li>\n",
       "\t<li>'my'</li>\n",
       "\t<li>'the'</li>\n",
       "\t<li>'under'</li>\n",
       "</ol>\n"
      ],
      "text/latex": [
       "\\begin{enumerate*}\n",
       "\\item 'bed'\n",
       "\\item 'cat'\n",
       "\\item 'hiding'\n",
       "\\item 'is'\n",
       "\\item 'my'\n",
       "\\item 'the'\n",
       "\\item 'under'\n",
       "\\end{enumerate*}\n"
      ],
      "text/markdown": [
       "1. 'bed'\n",
       "2. 'cat'\n",
       "3. 'hiding'\n",
       "4. 'is'\n",
       "5. 'my'\n",
       "6. 'the'\n",
       "7. 'under'\n",
       "\n",
       "\n"
      ],
      "text/plain": [
       "[1] \"bed\"    \"cat\"    \"hiding\" \"is\"     \"my\"     \"the\"    \"under\" "
      ]
     },
     "metadata": {},
     "output_type": "display_data"
    }
   ],
   "source": [
    "# Example of single-word vocabulary creation\n",
    "string <- \"The cat is hiding under my bed\"\n",
    "vocab <- create_vocabulary(string)\n",
    "vocab"
   ]
  },
  {
   "cell_type": "code",
   "execution_count": 10,
   "id": "dd06498c",
   "metadata": {},
   "outputs": [
    {
     "data": {
      "text/html": [
       "<ol class=list-inline>\n",
       "\t<li>'cat is'</li>\n",
       "\t<li>'hiding under'</li>\n",
       "\t<li>'is hiding'</li>\n",
       "\t<li>'my bed'</li>\n",
       "\t<li>'the cat'</li>\n",
       "\t<li>'under my'</li>\n",
       "</ol>\n"
      ],
      "text/latex": [
       "\\begin{enumerate*}\n",
       "\\item 'cat is'\n",
       "\\item 'hiding under'\n",
       "\\item 'is hiding'\n",
       "\\item 'my bed'\n",
       "\\item 'the cat'\n",
       "\\item 'under my'\n",
       "\\end{enumerate*}\n"
      ],
      "text/markdown": [
       "1. 'cat is'\n",
       "2. 'hiding under'\n",
       "3. 'is hiding'\n",
       "4. 'my bed'\n",
       "5. 'the cat'\n",
       "6. 'under my'\n",
       "\n",
       "\n"
      ],
      "text/plain": [
       "[1] \"cat is\"       \"hiding under\" \"is hiding\"    \"my bed\"       \"the cat\"     \n",
       "[6] \"under my\"    "
      ]
     },
     "metadata": {},
     "output_type": "display_data"
    }
   ],
   "source": [
    "# Example of two-word vocabulary creation\n",
    "string <- \"The cat is hiding under my bed\"\n",
    "vocab <- create_vocabulary(string, n_words=2)\n",
    "vocab"
   ]
  },
  {
   "cell_type": "code",
   "execution_count": 11,
   "id": "62c3a792",
   "metadata": {},
   "outputs": [
    {
     "data": {
      "text/html": [
       "<ol class=list-inline>\n",
       "\t<li>'cat is hiding'</li>\n",
       "\t<li>'hiding under my'</li>\n",
       "\t<li>'is hiding under'</li>\n",
       "\t<li>'the cat is'</li>\n",
       "\t<li>'under my bed'</li>\n",
       "</ol>\n"
      ],
      "text/latex": [
       "\\begin{enumerate*}\n",
       "\\item 'cat is hiding'\n",
       "\\item 'hiding under my'\n",
       "\\item 'is hiding under'\n",
       "\\item 'the cat is'\n",
       "\\item 'under my bed'\n",
       "\\end{enumerate*}\n"
      ],
      "text/markdown": [
       "1. 'cat is hiding'\n",
       "2. 'hiding under my'\n",
       "3. 'is hiding under'\n",
       "4. 'the cat is'\n",
       "5. 'under my bed'\n",
       "\n",
       "\n"
      ],
      "text/plain": [
       "[1] \"cat is hiding\"   \"hiding under my\" \"is hiding under\" \"the cat is\"     \n",
       "[5] \"under my bed\"   "
      ]
     },
     "metadata": {},
     "output_type": "display_data"
    }
   ],
   "source": [
    "# Example of three-word vocabulary creation\n",
    "string <- \"The cat is hiding under my bed\"\n",
    "vocab <- create_vocabulary(string, n_words=3)\n",
    "vocab"
   ]
  },
  {
   "cell_type": "code",
   "execution_count": 12,
   "id": "9b05cc6e",
   "metadata": {},
   "outputs": [
    {
     "data": {
      "text/html": [
       "<ol class=list-inline>\n",
       "\t<li>'pen'</li>\n",
       "\t<li>'table'</li>\n",
       "</ol>\n"
      ],
      "text/latex": [
       "\\begin{enumerate*}\n",
       "\\item 'pen'\n",
       "\\item 'table'\n",
       "\\end{enumerate*}\n"
      ],
      "text/markdown": [
       "1. 'pen'\n",
       "2. 'table'\n",
       "\n",
       "\n"
      ],
      "text/plain": [
       "[1] \"pen\"   \"table\""
      ]
     },
     "metadata": {},
     "output_type": "display_data"
    }
   ],
   "source": [
    "# Example of concateneting clean_txt and create_vocabulary\n",
    "string <- \"The pen/ is on* the. t=&able!\"\n",
    "string <- clean_txt(string)\n",
    "vocab <- create_vocabulary(string)\n",
    "vocab"
   ]
  },
  {
   "cell_type": "markdown",
   "id": "2ba9b047",
   "metadata": {},
   "source": [
    "## Naive Bayes Algorithm\n",
    "### Train and test functions"
   ]
  },
  {
   "cell_type": "code",
   "execution_count": 15,
   "id": "a43dbbe7",
   "metadata": {},
   "outputs": [],
   "source": [
    "NB_train <- function(train,vocab,n_words) {\n",
    "\n",
    "frame = as.data.frame(table(vocab))\n",
    "frame <- frame[ -2 ]\n",
    "condprob2 = as.data.frame(table(vocab))\n",
    "condprob2 <- frame[ -2 ]\n",
    "\n",
    "C = as.numeric(sort(unique(train[[\"Labels\"]])))\n",
    "\n",
    "for (c in C){\n",
    "    label = c\n",
    "    train_c = train[which(train$Labels == label), ]\n",
    "    train_c_x = train_c[[\"Text\"]]\n",
    "\n",
    "    vocab_c = create_vocabulary(train_c_x, n_words, unique = FALSE)\n",
    "    \n",
    "    vocab_dummy = c(vocab, vocab_c)\n",
    "    \n",
    "    count = as.data.frame(table(vocab_dummy))\n",
    "    count = count[count$vocab_dummy  %in%  vocab,]\n",
    "    frame[c+2] = count$Freq\n",
    "    somma = sum(frame[c+2])\n",
    "    condprob2[c+2] = frame[c+2]/somma \n",
    "    \n",
    "    \n",
    "    } \n",
    "\n",
    "prior = (apply(frame[,2:7], 2, sum)-length(vocab))/(sum(frame[,2:7])-length(C)*length(vocab)) \n",
    "    \n",
    "results <- list(Count = frame, condprob = condprob2, prior = prior)\n",
    "return(results)\n",
    "} "
   ]
  },
  {
   "cell_type": "code",
   "execution_count": 16,
   "id": "4f21528a",
   "metadata": {},
   "outputs": [],
   "source": [
    "NB_test <- function(test, n_words, results, thresh = 2) {\n",
    "  \n",
    "  prior <- results$prior\n",
    "  prior <- prior\n",
    "  condprob <- results$condprob\n",
    "  \n",
    "  log_like <- log(t(data.matrix(condprob[, 2:length(condprob)])))\n",
    "  \n",
    "  fit_y <- numeric(length = length(test))\n",
    "  \n",
    "  \n",
    "  null = matrix(0,length(vocab))\n",
    "  \n",
    "    for (i in 1:length(test)) {\n",
    "      vocab_t <- create_vocabulary(test[i], n_words = n_words, unique = F)\n",
    "      \n",
    "      my.text <- null\n",
    "      \n",
    "      for (w in vocab_t){\n",
    "          \n",
    "              if (w %in% vocab){\n",
    "                  \n",
    "                  index = which( vocab == w ) #word index inside vocabab\n",
    "                  \n",
    "                  my.text[index] = my.text[index] + 1  \n",
    "              }\n",
    "      }\n",
    "\n",
    "      score_t <- log_like%*% my.text + log(prior)\n",
    "      score_t <- score_t\n",
    "      label = which.max(score_t) - 1\n",
    "\n",
    "      fit_y[i] <- label\n",
    "    }\n",
    "  \n",
    "  fit_y <- data.frame(fit_y)\n",
    "  fit_y[\"text\"] <- test\n",
    "  return(fit_y)\n",
    "}\n"
   ]
  },
  {
   "cell_type": "markdown",
   "id": "5e5d5193",
   "metadata": {},
   "source": [
    "## CODE"
   ]
  },
  {
   "cell_type": "markdown",
   "id": "4ea8efb8",
   "metadata": {},
   "source": [
    "### Train"
   ]
  },
  {
   "cell_type": "code",
   "execution_count": 17,
   "id": "3ce3332a",
   "metadata": {},
   "outputs": [],
   "source": [
    "a = Sys.time()"
   ]
  },
  {
   "cell_type": "code",
   "execution_count": 18,
   "id": "6d7ac416",
   "metadata": {},
   "outputs": [],
   "source": [
    "n_words <- 1\n",
    "\n",
    "tot <- read.csv(file = 'C:/Users/scanu/OneDrive/Desktop/Andrea/Università/Garfa/train.csv')\n",
    "#tot <- read.csv(file = 'Dataset2.csv')\n",
    "\n",
    "tot[,2] <- clean_txt(tot[,2])\n",
    "\n",
    "text <- tot[,2]\n",
    "#split the file in train and test\n",
    "segmentation <- 0.9\n",
    "dim_tot <- dim(tot)[1]\n",
    "\n",
    "train_dim = round(segmentation*dim_tot, digit = 0)\n",
    "test_dim = dim_tot - train_dim\n",
    "train = tot[1:train_dim,]\n",
    "test = tot[train_dim:dim_tot,]\n",
    "\n",
    "train_x = train[[\"Text\"]]\n",
    "train_y = train[[\"Labels\"]]"
   ]
  },
  {
   "cell_type": "code",
   "execution_count": 19,
   "id": "cc6f6ee1",
   "metadata": {},
   "outputs": [],
   "source": [
    "vocab <- create_vocabulary(train_x, n_words = n_words)"
   ]
  },
  {
   "cell_type": "code",
   "execution_count": 20,
   "id": "aac54e92",
   "metadata": {},
   "outputs": [
    {
     "data": {
      "text/html": [
       "12997"
      ],
      "text/latex": [
       "12997"
      ],
      "text/markdown": [
       "12997"
      ],
      "text/plain": [
       "[1] 12997"
      ]
     },
     "metadata": {},
     "output_type": "display_data"
    }
   ],
   "source": [
    "length(vocab)"
   ]
  },
  {
   "cell_type": "code",
   "execution_count": 21,
   "id": "58cd6dfa",
   "metadata": {},
   "outputs": [],
   "source": [
    "results <- NB_train(train, vocab, n_words)\n",
    "\n",
    "Count <- results$Count\n",
    "condprob <- results$condprob\n",
    "prior <- results$prior"
   ]
  },
  {
   "cell_type": "markdown",
   "id": "6d084fa8",
   "metadata": {},
   "source": [
    "### Test"
   ]
  },
  {
   "cell_type": "code",
   "execution_count": 22,
   "id": "d98fe43f",
   "metadata": {},
   "outputs": [],
   "source": [
    "test_x = test[[\"Text\"]]\n",
    "test_y = test[[\"Labels\"]]\n",
    "\n",
    "fit <- NB_test(test_x, n_words = n_words, results)"
   ]
  },
  {
   "cell_type": "code",
   "execution_count": 23,
   "id": "66f2caa8",
   "metadata": {},
   "outputs": [
    {
     "data": {
      "text/html": [
       "0.758048780487805"
      ],
      "text/latex": [
       "0.758048780487805"
      ],
      "text/markdown": [
       "0.758048780487805"
      ],
      "text/plain": [
       "[1] 0.7580488"
      ]
     },
     "metadata": {},
     "output_type": "display_data"
    },
    {
     "data": {
      "text/plain": [
       "\n",
       "         0          1          2          3          4          5 \n",
       "0.23024390 0.29365854 0.23414634 0.15317073 0.06926829 0.01951220 "
      ]
     },
     "metadata": {},
     "output_type": "display_data"
    },
    {
     "data": {
      "image/png": "[encoded data removed]",
      "text/plain": [
       "plot without title"
      ]
     },
     "metadata": {},
     "output_type": "display_data"
    }
   ],
   "source": [
    "fit$true = test_y\n",
    "fit[,4] = abs(fit[,1] - fit[,3])\n",
    "\n",
    "par(mfrow=c(2,2)) \n",
    "\n",
    "###########random\n",
    "draw = sample(0:5, size=length(test[,1])*20, replace = TRUE)\n",
    "test_yfake = c()\n",
    "for (i in 1:20){\n",
    "    \n",
    "    test_yfake = c(test_yfake, test_y)\n",
    "    \n",
    "}\n",
    "df = data.frame(draw,test_yfake)\n",
    "df[,3] = abs(df[,2] - df[,1])\n",
    "barplot(prop.table(table(df[[3]])))\n",
    "#################\n",
    "\n",
    " x <- barplot(prop.table(table(fit[[4]])))\n",
    " accuracy <- prop.table(table(fit[[4]]))\n",
    "\n",
    "sum(accuracy[1:3])\n",
    "\n",
    "accuracy"
   ]
  },
  {
   "cell_type": "code",
   "execution_count": 24,
   "id": "6f69186d",
   "metadata": {},
   "outputs": [
    {
     "data": {
      "text/html": [
       "'3.673 Seconds'"
      ],
      "text/latex": [
       "'3.673 Seconds'"
      ],
      "text/markdown": [
       "'3.673 Seconds'"
      ],
      "text/plain": [
       "[1] \"3.673 Seconds\""
      ]
     },
     "metadata": {},
     "output_type": "display_data"
    }
   ],
   "source": [
    "b = Sys.time()\n",
    "\n",
    "paste0(round(as.numeric(difftime(time1 = b, time2 = a, units = \"secs\")), 3), \" Seconds\")"
   ]
  },
  {
   "cell_type": "markdown",
   "id": "7d18c4bf",
   "metadata": {},
   "source": [
    "### Train improvement"
   ]
  },
  {
   "cell_type": "markdown",
   "id": "3827c2c3",
   "metadata": {},
   "source": [
    "The idea for the improvement comes from the fact that in the end you just need to count the number of words for every kind of class. This concept is very similar to the idea of histogram, and r is very fast in creating histogram... In fact we can take out a for loop and substitute it with r function."
   ]
  },
  {
   "attachments": {
    "Train.png": {
     "image/png": "[encoded data removed]"
    }
   },
   "cell_type": "markdown",
   "id": "28a4028c",
   "metadata": {},
   "source": [
    "![Train.png](attachment:Train.png)"
   ]
  },
  {
   "cell_type": "markdown",
   "id": "2ed6007c",
   "metadata": {},
   "source": [
    "### Test improvement"
   ]
  },
  {
   "cell_type": "markdown",
   "id": "f90098d2",
   "metadata": {},
   "source": [
    "Arranging the Bayes formula we can write it in a matrix multiplication form in order to implement the operator for matrix multiplication built in r."
   ]
  },
  {
   "cell_type": "markdown",
   "id": "3c026fe6",
   "metadata": {},
   "source": [
    "$$ P(c|d) \\propto P(c) \\prod_{t \\in d} P(t_k |c)  $$"
   ]
  },
  {
   "cell_type": "markdown",
   "id": "6a19aaa7",
   "metadata": {},
   "source": [
    "taking the logarithm"
   ]
  },
  {
   "cell_type": "markdown",
   "id": "1d876b8d",
   "metadata": {},
   "source": [
    "$$  log(P(c|d)) \\propto log(P(c)) + \\sum_{t \\in d} log(P(t|c))   $$"
   ]
  },
  {
   "cell_type": "markdown",
   "id": "a9740e05",
   "metadata": {},
   "source": [
    "writing in a matrix form"
   ]
  },
  {
   "cell_type": "markdown",
   "id": "4b644322",
   "metadata": {},
   "source": [
    "$$  LP_{c}(d) \\propto P_c + \\sum_{t \\in d} LP_{tc} d_t  $$"
   ]
  },
  {
   "attachments": {
    "Test.png": {
     "image/png": "[encoded data removed]"
    }
   },
   "cell_type": "markdown",
   "id": "1c2803d2",
   "metadata": {},
   "source": [
    "![Test.png](attachment:Test.png)"
   ]
  },
  {
   "cell_type": "markdown",
   "id": "c69e4fff",
   "metadata": {},
   "source": [
    "## Implementations"
   ]
  },
  {
   "cell_type": "markdown",
   "id": "18e41db8",
   "metadata": {},
   "source": [
    "- **MULTI-WORD VOCABULARY** :\n",
    "    * importance is given to the connection between words;\n",
    "    * some words which could appear in any type of title if taken one at a time, together acquire a specific meaning;\n",
    "    * if the train set in not large enough, it is easier with the increasing of the number of words used, to find some combinations which don’t appear in the train vocabulary.\n",
    "    \n"
   ]
  },
  {
   "cell_type": "markdown",
   "id": "d06b54da",
   "metadata": {},
   "source": [
    "\n",
    "- **THRESHOLD** :\n",
    "    * filters our vocabulary by considering only the words which appear multiple times along our train set;\n",
    "    * since we cut off a large number of words (or combination of words) from the vocabulary, this operation allows to decrease appreciably the time of computation, especially for the combination of words;\n",
    "    * even if this implementation doesn’t lead to better results in terms of accuracy, it allows the algorithm to commit less serious mistakes, as we can see from the table."
   ]
  },
  {
   "cell_type": "markdown",
   "id": "054d9b1b",
   "metadata": {},
   "source": [
    "\n",
    "- **WEIGHTED MEAN POSTERIOR** :\n",
    "    * Another problem of the algorithm is the way it chooses the predicted label, because it looks at the one with the maximum score;\n",
    "    * It is proposed an alternative posterior, which performs a weighted mean between the scores and returns the corresponding rounded label;\n",
    "    *  better results in terms of accuracy, it improves the general performance of the algorithm and decreases the Loss function."
   ]
  },
  {
   "cell_type": "code",
   "execution_count": null,
   "id": "da92574a",
   "metadata": {},
   "outputs": [],
   "source": [
    "#Threshold inside the NB_test function\n",
    "\n",
    "Count[,length(C)+2] <- rowSums(Count[,2:(length(C)+1)])\n",
    "mask = Count[,length(C)+2] > thresh\n",
    "condprob = condprob[mask,]"
   ]
  },
  {
   "cell_type": "code",
   "execution_count": null,
   "id": "b11a970f",
   "metadata": {},
   "outputs": [],
   "source": [
    "#Weighted mean inside the NB_test function\n",
    "\n",
    "score_t <- 10^(log_like%*% my.text + log(prior))\n",
    "score_t <- score_t/sum(score_t)\n",
    "label <- round(sum(C*score_t),0)\n",
    "fit_y[i] <- label"
   ]
  },
  {
   "cell_type": "markdown",
   "id": "1d99a95f",
   "metadata": {},
   "source": [
    "### 6-label dataset results\n",
    "\n",
    "Now, looking at the various combinations of threshold, posterior functions and number of words used, we can see that we reach the highest accuracy of 0.243 with 2 words, a threshold value set to zero and by using the weighted mean for the label prediction. Beyond that, if we sum the percentages corresponding to a difference between the true and the predicted label of at most 2 positions, we reach a \"weaker\" accuracy of 81,66% against the 75,6% of the canonical algorithm. Furthermore, as mentioned before, considering the 3-words case, we notice a decreasing on the time of computation if we increase the threshold value used, indeed it takes 7.76 s for the labels prediction with no threshold while using a threshold equals to 2 it takes only 0.4 s.\n",
    "Finally, the highest \"weaker\" accuracy is 83.51%, obtained using 3 words, a threshold of 2 and the weighted mean posterior.\n",
    "\n",
    "\n",
    "|n_words|Threshold|Posterior|Accuracy|Weaker Accuracy|\n",
    "|:-----:|:-------:|:-------:|:------:|:------:|\n",
    "|   1   |    0    | normal  | 0.2332 | 0.7561 |\n",
    "|   1   |    0    |wheighted| 0.2343 | 0.0837 |\n",
    "|   1   |    1    | normal  | 0.2263 | 0.7571 |\n",
    "|   1   |    1    |wheighted| 0.2302 | 0.8049 |\n",
    "|   2   |    0    | normal  | 0.2224 | 0.7512 |\n",
    "|   2   |    0    |wheighted| 0.2429 | 0.8166 | \n",
    "|   2   |    1    | normal  | 0.2166 | 0.7737 |\n",
    "|   2   |    1    |wheighted| 0.2292 | 0.8293 |\n",
    "|   2   |    2    | normal  | 0.1912 | 0.7902 |\n",
    "|   2   |    2    |wheighted| 0.2215 | 0.8322 |\n",
    "|   3   |    0    | normal  | 0.2215 | 0.8059 |\n",
    "|   3   |    0    |wheighted| 0.2205 | 0.8293 |\n",
    "|   3   |    1    | normal  | 0.2166 | 0.8244 |\n",
    "|   3   |    1    |wheighted| 0.2127 | 0.8332 |\n",
    "|   3   |    2    | normal  | 0.2166 | 0.8283 |\n",
    "|   3   |    2    |wheighted| 0.2185 | 0.8351 |\n"
   ]
  },
  {
   "cell_type": "markdown",
   "id": "6bd6eb82",
   "metadata": {},
   "source": [
    "### 2-label dataset results\n",
    "\n",
    "The same algorithm as been applied to a dataset with two labels: *True* and *Fake*. <br>\n",
    "The dataset can be found at the link: https://www.kaggle.com/datasets/clmentbisaillon/fake-and-real-news-dataset.<br>\n",
    "This dataset contains over fourty thousands between article's titles and twitters but only the fisrt twenty thousands of them have been used for performaces issues. The 60% of these texts have been used as training set and the rest as test set.<br>\n",
    "The results are reported in the following table.<br>\n",
    "\n",
    "|n_words|Threshold|Posterior|Accuracy|\n",
    "|:-----:|:-------:|:-------:|:------:|\n",
    "|   1   |    0    | normal  | 0.9395 |\n",
    "|   1   |    1    | normal  | 0.9390 |\n",
    "|   1   |    2    | normal  | 0.9383 |\n",
    "|   2   |    0    | normal  | 0.8444 |\n",
    "|   2   |    1    | normal  | 0.7792 |\n",
    "|   2   |    2    | normal  | 0.7457 |\n",
    "|   3   |    0    | normal  | 0.6314 |\n",
    "|   3   |    1    | normal  | 0.5762 |\n",
    "|   3   |    2    | normal  | 0.5594 |\n",
    "\n",
    "In this case, since there are only two labels, taking the maximum of the posterior coincides with doing the weighted sum so only one analisys has been performed. <br>\n",
    "Since the algorithm have to choose only between two categories, the accuracy on the test set increases as expected. <br>\n",
    "Its behaviour, though, is different then the previous case. Indeed, from the table one can see how a higher threshold on the number of counted words slightly decrases the accuracy. <br>\n",
    "Moreover, in this case a multi-word vocabulary drastically drops the accuracy. This is not in contrast with the results of the 6-label dataset since even in that case the rate of texts whose predicted label perfectly matches the real one in general gets lower as *n_words* increases."
   ]
  },
  {
   "cell_type": "markdown",
   "id": "9b45d525",
   "metadata": {},
   "source": [
    "## Conclusions\n",
    "\n",
    "In this work the usage of the Naive Bayes algorithm for the detection of fake news has been presented. <br>\n",
    "Its original version can already reach an accuracy of about 93% in the test when dealing with a 2-label dataset, indeed using the features implemented the results get worse. <br>\n",
    "For a 6-label dataset, though, the accuracy remains really low (around 23%) but if one allows for a \"weaker\" accuracy then the original algorithm can reach up to 77% and with the implementations it arrives over 80%. <br>\n",
    "<br>\n",
    "<br>\n",
    "<br>\n",
    "<br>\n",
    "<br>\n"
   ]
  },
  {
   "cell_type": "markdown",
   "id": "e8351d4e",
   "metadata": {},
   "source": [
    "# Appendix"
   ]
  },
  {
   "cell_type": "markdown",
   "id": "df94de5b",
   "metadata": {},
   "source": [
    "### Modified test function"
   ]
  },
  {
   "cell_type": "code",
   "execution_count": null,
   "id": "fdc7f99f",
   "metadata": {},
   "outputs": [],
   "source": [
    "test_x = test[[\"Text\"]]\n",
    "test_y = test[[\"Labels\"]]\n",
    "\n",
    "NB_test <- function(test, n_words, results, thresh = 0) {\n",
    "  \n",
    "  prior <- results$prior\n",
    "  prior <- prior\n",
    "  condprob <- results$condprob\n",
    "  Count <- results$Count\n",
    "  C <- 0:length(prior)\n",
    "  \n",
    "  # Threshold\n",
    "  Count[,length(C)+2] <- rowSums(Count[,2:(length(C)+1)])\n",
    "  mask = Count[,length(C)+2] > thresh\n",
    "  condprob = condprob[mask,]\n",
    "  vocab = condprob[,1]\n",
    "  \n",
    "  log_like <- log(t(data.matrix(condprob[,2:length(condprob)])))\n",
    "  fit_y <- numeric(length = length(test))\n",
    "  null <- matrix(0,length(vocab))\n",
    "  \n",
    "  for (i in 1:length(test)) {\n",
    "  vocab_t <- create_vocabulary(test[i], n_words = n_words, unique = F)\n",
    "  my.text <- null\n",
    "  \n",
    "  for (w in vocab_t){\n",
    "          if (w %in% vocab){\n",
    "              index = which(vocab == w) #word index inside vocab\n",
    "              my.text[index] <- my.text[index] + 1  \n",
    "          }\n",
    "  }\n",
    "  \n",
    "  #score_t <- log_like%*% my.text + log(prior)\n",
    "  #score_t <- score_t\n",
    "  #label = which.max(score_t) - 1\n",
    "  \n",
    "  # Weighted sum posterior\n",
    "  score_t <- 10^(log_like%*% my.text + log(prior))\n",
    "  score_t <- score_t/sum(score_t)\n",
    "  label <- round(sum(C*score_t),0)\n",
    "  fit_y[i] <- label\n",
    "  }\n",
    "  \n",
    "  fit_y <- data.frame(fit_y)\n",
    "  fit_y[\"text\"] <- test\n",
    "  return(fit_y)\n",
    "}\n",
    "\n",
    "a = Sys.time()\n",
    "fit <- NB_test(test_x, n_words = n_words, results)\n",
    "b = Sys.time()\n",
    "print(b-a)"
   ]
  }
 ],
 "metadata": {
  "kernelspec": {
   "display_name": "R",
   "language": "R",
   "name": "ir"
  },
  "language_info": {
   "codemirror_mode": "r",
   "file_extension": ".r",
   "mimetype": "text/x-r-source",
   "name": "R",
   "pygments_lexer": "r",
   "version": "3.6.1"
  }
 },
 "nbformat": 4,
 "nbformat_minor": 5
}
